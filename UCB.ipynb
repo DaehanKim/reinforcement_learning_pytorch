{
  "nbformat": 4,
  "nbformat_minor": 0,
  "metadata": {
    "colab": {
      "name": "UCB.ipynb",
      "provenance": [],
      "collapsed_sections": [],
      "include_colab_link": true
    },
    "kernelspec": {
      "name": "python3",
      "display_name": "Python 3"
    }
  },
  "cells": [
    {
      "cell_type": "markdown",
      "metadata": {
        "id": "view-in-github",
        "colab_type": "text"
      },
      "source": [
        "<a href=\"https://colab.research.google.com/github/DaehanKim/reinforcement_learning_tutorial/blob/master/UCB.ipynb\" target=\"_parent\"><img src=\"https://colab.research.google.com/assets/colab-badge.svg\" alt=\"Open In Colab\"/></a>"
      ]
    },
    {
      "cell_type": "markdown",
      "metadata": {
        "id": "Qye6KhQItVcs",
        "colab_type": "text"
      },
      "source": [
        "## Upper Confidence Bound(UCB)\n",
        "\n",
        "This method solves multi-armed-bandit problem by approximating upper confidence bound for a mean of each arm's bernouli reward. The upper bound is valid with probability $1-\\frac{1}{t}$ with trial number $t$. Derivation is based on Chernoff-Hoeffding Inequality and see [this document](http://homes.di.unimi.it/cesa-bianchi/Pubblicazioni/ml-02.pdf) for details. Below codes are based on UCB1 algorithm."
      ]
    },
    {
      "cell_type": "code",
      "metadata": {
        "id": "apIzoeXWtTgG",
        "colab_type": "code",
        "colab": {
          "base_uri": "https://localhost:8080/",
          "height": 251
        },
        "outputId": "20dbb292-ba43-4e7a-9afc-199c80ac5bb9"
      },
      "source": [
        "import numpy as np\n",
        "\n",
        "# config\n",
        "NUM_BANDIT = 5\n",
        "NUM_TRIAL = 30\n",
        "LOG_INT = 3\n",
        "\n",
        "def pull_bandit(choice, bandit):\n",
        "    if np.random.uniform(0,1,1)[0] < bandit[choice]:\n",
        "        return 1\n",
        "    else : return 0\n",
        "\n",
        "bandit = np.random.uniform(0,1,(NUM_BANDIT,))\n",
        "\n",
        "b_mean = np.zeros(NUM_BANDIT)\n",
        "n_trial = np.zeros(NUM_BANDIT)\n",
        "ucb = np.zeros(NUM_BANDIT)\n",
        "\n",
        "for _iter in range(NUM_TRIAL):\n",
        "    # choose an arm\n",
        "    if (n_trial == 0).any(): choice = np.where(n_trial == 0)[0][0]\n",
        "    else: choice = ucb.argmax()\n",
        "\n",
        "\n",
        "    # update UCB\n",
        "    reward = pull_bandit(choice, bandit)\n",
        "    b_mean[choice] = (b_mean[choice]*n_trial[choice] + reward)/(n_trial[choice]+1)\n",
        "    n_trial[choice] += 1\n",
        "    if _iter + 1 == NUM_BANDIT:\n",
        "        ucb = b_mean + np.sqrt(2*np.log(_iter+1)/n_trial)\n",
        "    if _iter + 1 > NUM_BANDIT:\n",
        "        ucb[choice] =  b_mean[choice] + np.sqrt(2*np.log(_iter+1)/n_trial[choice])\n",
        "\n",
        "    if (_iter+1) % LOG_INT == 0: print('[Iter {}] ucb = {} / n_trial = {} / empherical_mean = {}'.format(_iter + 1, ucb, n_trial, b_mean))\n",
        "\n",
        "print(\"Estimated Optimal Strategy : {}\".format(ucb.argmax()))\n",
        "print(\"Answer Strategy : {}\".format(bandit.argmax()))\n",
        "print(\"Actual Arms' Bernouli Probability : {}\".format(bandit))"
      ],
      "execution_count": 37,
      "outputs": [
        {
          "output_type": "stream",
          "text": [
            "[Iter 3] ucb = [0. 0. 0. 0. 0.] / n_trial = [1. 1. 1. 0. 0.] / empherical_mean = [0. 0. 0. 0. 0.]\n",
            "[Iter 6] ucb = [1.3385662  1.79412258 1.79412258 1.79412258 1.79412258] / n_trial = [2. 1. 1. 1. 1.] / empherical_mean = [0. 0. 0. 0. 0.]\n",
            "[Iter 9] ucb = [1.3385662  1.54814707 1.79412258 1.79412258 1.79412258] / n_trial = [2. 4. 1. 1. 1.] / empherical_mean = [0.  0.5 0.  0.  0. ]\n",
            "[Iter 12] ucb = [1.3385662  1.54814707 1.51742713 1.54851389 2.07635867] / n_trial = [2. 4. 2. 2. 2.] / empherical_mean = [0.  0.5 0.  0.  0.5]\n",
            "[Iter 15] ucb = [1.3385662  1.54814707 1.51742713 1.34363939 1.39870739] / n_trial = [2. 4. 2. 3. 4.] / empherical_mean = [0.   0.5  0.   0.   0.25]\n",
            "[Iter 18] ucb = [1.3385662  1.48155858 1.37433944 1.34363939 1.39870739] / n_trial = [2. 6. 3. 3. 4.] / empherical_mean = [0.   0.5  0.   0.   0.25]\n",
            "[Iter 21] ucb = [1.3385662  1.36540919 1.37433944 1.34363939 1.30354383] / n_trial = [2. 8. 3. 3. 5.] / empherical_mean = [0.  0.5 0.  0.  0.2]\n",
            "[Iter 24] ucb = [1.3385662  1.27917583 1.24318994 1.26056611 1.30354383] / n_trial = [2. 9. 4. 4. 5.] / empherical_mean = [0.         0.44444444 0.         0.         0.2       ]\n",
            "[Iter 27] ucb = [1.27634175 1.27917583 1.24318994 1.26056611 1.38148041] / n_trial = [4. 9. 4. 4. 6.] / empherical_mean = [0.         0.44444444 0.         0.         0.33333333]\n",
            "[Iter 30] ucb = [1.27634175 1.33183837 1.24318994 1.26056611 1.2614491 ] / n_trial = [ 4. 11.  4.  4.  7.] / empherical_mean = [0.         0.54545455 0.         0.         0.28571429]\n",
            "Estimated Optimal Strategy : 1\n",
            "Answer Strategy : 1\n",
            "Actual Arms' Bernouli Probability : [0.0742178  0.58900515 0.39384283 0.09001258 0.26604554]\n"
          ],
          "name": "stdout"
        }
      ]
    },
    {
      "cell_type": "code",
      "metadata": {
        "id": "mAbQANyVzgp7",
        "colab_type": "code",
        "colab": {}
      },
      "source": [
        ""
      ],
      "execution_count": 0,
      "outputs": []
    }
  ]
}